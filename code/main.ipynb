{
 "cells": [
  {
   "cell_type": "code",
   "execution_count": 1,
   "metadata": {},
   "outputs": [
    {
     "name": "stdout",
     "output_type": "stream",
     "text": [
      "\u001b[0;30;43mCpp extension not loaded\u001b[0m\n",
      ">>SEED: 2020\n",
      "\u001b[0;30;43mloading [../data/gowalla]\u001b[0m\n",
      "810128 interactions for training\n",
      "217242 interactions for testing\n",
      "gowalla Sparsity : 0.0008396216228570436\n",
      "gowalla is ready to go\n",
      "===========config================\n",
      "{'A_n_fold': 100,\n",
      " 'A_split': False,\n",
      " 'bigdata': False,\n",
      " 'bpr_batch_size': 2048,\n",
      " 'decay': 0.0001,\n",
      " 'dropout': 0,\n",
      " 'keep_prob': 0.6,\n",
      " 'latent_dim_rec': 64,\n",
      " 'lightGCN_n_layers': 3,\n",
      " 'lr': 0.001,\n",
      " 'multicore': 0,\n",
      " 'pretrain': 0,\n",
      " 'test_u_batch_size': 100}\n",
      "cores for test: 28\n",
      "comment: lgn\n",
      "tensorboard: 1\n",
      "LOAD: 0\n",
      "Weight path: ./checkpoints\n",
      "Test Topks: [20]\n",
      "using bpr loss\n",
      "===========end===================\n",
      "\u001b[0;30;43muse NORMAL distribution initializer\u001b[0m\n",
      "lgn is all ready to go(dropout:0)\n",
      "load and save to /dfs/user/pranayr/code/LightGCN-PyTorch/code/checkpoints/lgn-gowalla-3-64.pth.tar\n",
      "\u001b[0;30;43m[TEST]\u001b[0m\n"
     ]
    }
   ],
   "source": [
    "import world\n",
    "import utils\n",
    "from world import cprint\n",
    "import torch\n",
    "import numpy as np\n",
    "from tensorboardX import SummaryWriter\n",
    "import time\n",
    "import Procedure\n",
    "from os.path import join\n",
    "# ==============================\n",
    "utils.set_seed(world.seed)\n",
    "print(\">>SEED:\", world.seed)\n",
    "# ==============================\n",
    "import register\n",
    "from register import dataset\n",
    "\n",
    "Recmodel = register.MODELS[world.model_name](world.config, dataset)\n",
    "Recmodel = Recmodel.to(world.device)\n",
    "bpr = utils.BPRLoss(Recmodel, world.config)\n",
    "\n",
    "weight_file = utils.getFileName()\n",
    "print(f\"load and save to {weight_file}\")\n",
    "if world.LOAD:\n",
    "    try:\n",
    "        Recmodel.load_state_dict(torch.load(weight_file,map_location=torch.device('cpu')))\n",
    "        world.cprint(f\"loaded model weights from {weight_file}\")\n",
    "    except FileNotFoundError:\n",
    "        print(f\"{weight_file} not exists, start from beginning\")\n",
    "Neg_k = 1\n",
    "\n",
    "# init tensorboard\n",
    "if world.tensorboard:\n",
    "    w : SummaryWriter = SummaryWriter(\n",
    "                                    join(world.BOARD_PATH, time.strftime(\"%m-%d-%Hh%Mm%Ss-\") + \"-\" + world.comment)\n",
    "                                    )\n",
    "else:\n",
    "    w = None\n",
    "    world.cprint(\"not enable tensorflowboard\")\n",
    "\n",
    "try:\n",
    "    for epoch in range(world.TRAIN_epochs):\n",
    "        start = time.time()\n",
    "        if epoch %10 == 0:\n",
    "            cprint(\"[TEST]\")\n",
    "            Procedure.Test(dataset, Recmodel, epoch, w, world.config['multicore'])\n",
    "        output_information = Procedure.BPR_train_original(dataset, Recmodel, bpr, epoch, neg_k=Neg_k,w=w)\n",
    "        print(f'EPOCH[{epoch+1}/{world.TRAIN_epochs}] {output_information}')\n",
    "        torch.save(Recmodel.state_dict(), weight_file)\n",
    "finally:\n",
    "    if world.tensorboard:\n",
    "        w.close()"
   ]
  }
 ],
 "metadata": {
  "interpreter": {
   "hash": "7c9223bca47d17027b213a9215bde7a920d164ba08e94ebfde155542997c5945"
  },
  "kernelspec": {
   "display_name": "Python 3.9.7 64-bit ('plasma': conda)",
   "language": "python",
   "name": "python3"
  },
  "language_info": {
   "codemirror_mode": {
    "name": "ipython",
    "version": 3
   },
   "file_extension": ".py",
   "mimetype": "text/x-python",
   "name": "python",
   "nbconvert_exporter": "python",
   "pygments_lexer": "ipython3",
   "version": "3.9.7"
  },
  "orig_nbformat": 4
 },
 "nbformat": 4,
 "nbformat_minor": 2
}
